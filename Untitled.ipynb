{
 "cells": [
  {
   "cell_type": "code",
   "execution_count": 1,
   "metadata": {
    "collapsed": true
   },
   "outputs": [],
   "source": [
    "import numpy as np"
   ]
  },
  {
   "cell_type": "markdown",
   "metadata": {},
   "source": [
    "Задача коши для системы двух дифференциальных решений решается методом Рунге-Кутта четвёртого порядка. Алгоритм решения:\n",
    "\n",
    "Пусть есть система из двух уравнений\n",
    "$$ \\frac{dx}{dt} = f(x, y, t) $$\n",
    "$$ \\frac{dy}{dt} = g(x, y, t) $$\n",
    "С заданными начальными условиями $x_0, y_0$\n",
    "\n",
    "Тогда:\n",
    "$$ X_0 = x_0 $$\n",
    "$$ Y_0 = y_0 $$\n",
    "$$ X_{k+1} = X_{k} + \\frac{1}{6} * (k_1 + 2 * k_2 + 2 * k_3 + k_4) $$\n",
    "$$ Y_{k+1} = Y_{k} + \\frac{1}{6} * (m_1 + 2 * m_2 + 2 * m_3 + m_4) $$\n",
    "где\n",
    "$$ k_1 = f(t_k, X_k, Y_k) * \\Delta t $$\n",
    "$$ m_1 = g(t_k, X_k, Y_k) * \\Delta t $$\n",
    "$$ k_2 = f(t_k + \\Delta t / 2, X_k + k_1 / 2, Y_k + m_1 / 2) * \\Delta t $$\n",
    "$$ m_2 = g(t_k + \\Delta t / 2, X_k + k_1 / 2, Y_k + m_1 / 2) * \\Delta t $$\n",
    "$$ k_3 = f(t_k + \\Delta t / 2, X_k + k_2 / 2, Y_k + m_2 / 2) * \\Delta t $$\n",
    "$$ m_3 = g(t_k + \\Delta t / 2, X_k + k_2 / 2, Y_k + m_2 / 2) * \\Delta t $$\n",
    "$$ k_4 = f(t_k + \\Delta t, X_k + k_3, Y_k + m_3) * \\Delta t $$\n",
    "$$ m_4 = g(t_k + \\Delta t, X_k + k_3, Y_k + m_3) * \\Delta t $$\n",
    "\n",
    "Ошибка метода имеет порядок $O(h^4)$"
   ]
  },
  {
   "cell_type": "code",
   "execution_count": 10,
   "metadata": {
    "collapsed": true
   },
   "outputs": [],
   "source": [
    "def solve_diff_equation(f, g, t, x_0, y_0):\n",
    "    x = np.zeros(len(t))\n",
    "    x[0] = x_0\n",
    "    y = np.zeros(len(t))\n",
    "    y[0] = y_0\n",
    "    \n",
    "    for i in range(0, len(t) - 1):\n",
    "        tau = t[i + 1] - t[i]\n",
    "        k1 = f(t[i], x[i], y[i]) * tau\n",
    "        m1 = g(t[i], x[i], y[i]) * tau\n",
    "        \n",
    "        k2 = f(t[i] + tau / 2, x[i] + k1 / 2, y[i] + m1 / 2) * tau\n",
    "        m2 = g(t[i] + tau / 2, x[i] + k1 / 2, y[i] + m1 / 2) * tau\n",
    "        \n",
    "        k3 = f(t[i] + tau / 2, x[i] + k2 / 2, y[i] + m2 / 2) * tau\n",
    "        m3 = g(t[i] + tau / 2, x[i] + k2 / 2, y[i] + m2 / 2) * tau\n",
    "        \n",
    "        k4 = f(t[i] + tau, x[i] + k3, y[i] + m3) * tau\n",
    "        m4 = g(t[i] + tau, x[i] + k3, y[i] + m3) * tau\n",
    "        \n",
    "        x[i + 1] = x[i] + (k1 + 2 * k2 + 2 * k3 + k4) / 6\n",
    "        y[i + 1] = y[i] + (m1 + 2 * m2 + 2 * m3 + m4) / 6\n",
    "    \n",
    "    return x, y"
   ]
  },
  {
   "cell_type": "markdown",
   "metadata": {},
   "source": [
    "Протестируем на системе где $$f = 2 * x - 5 * y + 3$$ $$g = 5 * x - 6 * y + 1$$\n",
    "С начальными условиями $$x(0) = 6, y(0) = 5 $$\n",
    "Решениями данной системы являются функции\n",
    "$$ x = 5e^{-2t}cos(3t) + 1 $$\n",
    "$$ y = e^{-2t} * (4cos(3t) + 3sin(3t)) + 1 $$"
   ]
  },
  {
   "cell_type": "code",
   "execution_count": 23,
   "metadata": {
    "collapsed": true
   },
   "outputs": [],
   "source": [
    "def f_function(t, x, y):\n",
    "    return 2 * x - 5 * y + 3\n",
    "\n",
    "def g_function(t, x, y):\n",
    "    return 5 * x - 6 * y + 1\n",
    "\n",
    "def x_ans_function(t):\n",
    "    return 5 * np.exp(-2 * t) * np.cos(3 * t) + 1\n",
    "\n",
    "def y_ans_function(t):\n",
    "    return np.exp(-2 * t) * (4 * np.cos(3 * t) + 3 * np.sin(3 * t)) + 1"
   ]
  },
  {
   "cell_type": "code",
   "execution_count": 30,
   "metadata": {
    "collapsed": false
   },
   "outputs": [],
   "source": [
    "t = np.linspace(0.0, 5.0, num=10000)\n",
    "x, y = solve_diff_equation(f_function, g_function, t, 6, 5)\n",
    "x_real = [x_ans_function(i) for i in t]\n",
    "y_real = [y_ans_function(i) for i in t]"
   ]
  },
  {
   "cell_type": "markdown",
   "metadata": {},
   "source": [
    "Нарисуем фазовый портрет"
   ]
  },
  {
   "cell_type": "code",
   "execution_count": 31,
   "metadata": {
    "collapsed": true
   },
   "outputs": [],
   "source": [
    "%matplotlib inline\n",
    "import matplotlib.pyplot as plt"
   ]
  },
  {
   "cell_type": "code",
   "execution_count": 32,
   "metadata": {
    "collapsed": false
   },
   "outputs": [
    {
     "data": {
      "image/png": "[encoded data removed]",
      "text/plain": [
       "<matplotlib.figure.Figure at 0x7f75a71b4cf8>"
      ]
     },
     "metadata": {},
     "output_type": "display_data"
    }
   ],
   "source": [
    "plt.plot(x, y, color='blue')\n",
    "plt.plot(x_real, y_real, color='green')\n",
    "plt.show()"
   ]
  },
  {
   "cell_type": "markdown",
   "metadata": {},
   "source": [
    "Построим график в осях $ (log(X), log(E(X))) $,\n",
    "где X -- это количество отрезков, на который мы разбиваем наш отрезок"
   ]
  },
  {
   "cell_type": "code",
   "execution_count": 37,
   "metadata": {
    "collapsed": false
   },
   "outputs": [
    {
     "name": "stderr",
     "output_type": "stream",
     "text": [
      "/usr/local/lib/python3.4/dist-packages/ipykernel/__main__.py:10: RuntimeWarning: divide by zero encountered in log\n"
     ]
    },
    {
     "data": {
      "image/png": "[encoded data removed]",
      "text/plain": [
       "<matplotlib.figure.Figure at 0x7f75a47ca518>"
      ]
     },
     "metadata": {},
     "output_type": "display_data"
    }
   ],
   "source": [
    "x_plt = []\n",
    "y_plt_x = []\n",
    "y_plt_y = []\n",
    "for i in range(2, 10000, 10):\n",
    "    t = np.linspace(0.0, 5.0, num=i)\n",
    "    x, y = solve_diff_equation(f_function, g_function, t, 6, 5)\n",
    "    x_real = np.array([x_ans_function(i) for i in t])\n",
    "    y_real = np.array([y_ans_function(i) for i in t])\n",
    "    x_plt.append(np.log(i))\n",
    "    y_plt_x.append(np.log(np.abs(np.max(np.abs(x - x_real)))))\n",
    "    y_plt_y.append(np.log(np.abs(np.max(np.abs(y - y_real)))))\n",
    "plt.plot(x_plt, y_plt_x, color=\"blue\")\n",
    "plt.plot(x_plt, y_plt_y, color=\"green\")\n",
    "plt.show()"
   ]
  },
  {
   "cell_type": "markdown",
   "metadata": {},
   "source": [
    "$$ log(X) = 6 \\Rightarrow X \\approx 403$$\n",
    "$$ log(X) = 8 \\Rightarrow X \\approx 2981$$\n",
    "Возьмём эти $ X $ и посчитает две точки, которыми и зададим прямую, описывающую \"хвост\", решим систему уравнений\n",
    "$$ y_1 = k * x_1 + b$$\n",
    "$$ y_2 = k * x_2 + b$$\n",
    "$$ k = \\frac{y_2 - y_1}{x_2 - x_1} $$"
   ]
  },
  {
   "cell_type": "code",
   "execution_count": 41,
   "metadata": {
    "collapsed": false
   },
   "outputs": [
    {
     "name": "stdout",
     "output_type": "stream",
     "text": [
      "k for first solution: 4.01216790621\n",
      "k for second solution: 4.01034545599\n"
     ]
    }
   ],
   "source": [
    "x1 = np.log(403)\n",
    "x2 = np.log(2981)\n",
    "\n",
    "t = np.linspace(0.0, 5.0, num=403)\n",
    "x, y = solve_diff_equation(f_function, g_function, t, 6, 5)\n",
    "x_real = np.array([x_ans_function(i) for i in t])\n",
    "y_real = np.array([y_ans_function(i) for i in t])\n",
    "y1_x = np.log(np.abs(np.max(np.abs(x - x_real))))\n",
    "y1_y = np.log(np.abs(np.max(np.abs(y - y_real))))\n",
    "\n",
    "t = np.linspace(0.0, 5.0, num=2981)\n",
    "x, y = solve_diff_equation(f_function, g_function, t, 6, 5)\n",
    "x_real = np.array([x_ans_function(i) for i in t])\n",
    "y_real = np.array([y_ans_function(i) for i in t])\n",
    "y2_x = np.log(np.abs(np.max(np.abs(x - x_real))))\n",
    "y2_y = np.log(np.abs(np.max(np.abs(y - y_real))))\n",
    "\n",
    "k_x = (y2_x - y1_x) / (x2 - x1)\n",
    "k_y = (y2_y - y1_y) / (x2 - x1)\n",
    "\n",
    "print(\"k for first solution:\", np.abs(k_x))\n",
    "print(\"k for second solution:\", np.abs(k_y))"
   ]
  },
  {
   "cell_type": "markdown",
   "metadata": {},
   "source": [
    "$$ err(5h) = 5 * h $$\n",
    "$$ log(err(5h)) = k * log(X) + b $$\n",
    "$$ log(err(5h)) - log(X^k) = b $$\n",
    "$$ log(\\frac{err(5h)}{X^k}) = b $$\n",
    "$$ \\frac{err(5h)}{X^k} = e^b $$\n",
    "Получается, $k$ -- это порядок аппроксимации"
   ]
  }
 ],
 "metadata": {
  "kernelspec": {
   "display_name": "Python 3",
   "language": "python",
   "name": "python3"
  },
  "language_info": {
   "codemirror_mode": {
    "name": "ipython",
    "version": 3
   },
   "file_extension": ".py",
   "mimetype": "text/x-python",
   "name": "python",
   "nbconvert_exporter": "python",
   "pygments_lexer": "ipython3",
   "version": "3.4.3"
  }
 },
 "nbformat": 4,
 "nbformat_minor": 0
}
