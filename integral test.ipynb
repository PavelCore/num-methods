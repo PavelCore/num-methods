{
 "cells": [
  {
   "cell_type": "code",
   "execution_count": 184,
   "metadata": {
    "collapsed": true
   },
   "outputs": [],
   "source": [
    "import numpy as np\n",
    "from scipy import integrate\n",
    "from functions import base_function, integral_p"
   ]
  },
  {
   "cell_type": "markdown",
   "metadata": {},
   "source": [
    "Функция с методом calculate, которая должна быть унаследована от базовой функции"
   ]
  },
  {
   "cell_type": "code",
   "execution_count": 185,
   "metadata": {
    "collapsed": true
   },
   "outputs": [],
   "source": [
    "class MyFunc(base_function.BaseFunction):\n",
    "\n",
    "    def __init__(self, params=None):\n",
    "        pass\n",
    "\n",
    "    def calculate(self, y):\n",
    "        return y * y"
   ]
  },
  {
   "cell_type": "code",
   "execution_count": 186,
   "metadata": {
    "collapsed": true
   },
   "outputs": [],
   "source": [
    "integral = integral_p.IntegralP(MyFunc())"
   ]
  },
  {
   "cell_type": "markdown",
   "metadata": {},
   "source": [
    "Интеграл считается по формуле Симпсона\n",
    "$$\\int_a^b f(x) \\approx \\frac{h}{3} * \\big [f_0(x) + 4f_1(x) + 2f_2(x) + 4f_3(x) + ... + 4f_{N - 1}(x) + f_N(x) \\big] $$\n",
    "\n",
    "В метод calculate подаётся два аргумента: верхняя граница интегрирования(нижняя равна 0) и число отрезочков, на которые делится интервал. Число отрезков потом умножается на два в функции интегрирования"
   ]
  },
  {
   "cell_type": "code",
   "execution_count": 187,
   "metadata": {
    "collapsed": false
   },
   "outputs": [
    {
     "data": {
      "text/plain": [
       "2.6253248850504556"
      ]
     },
     "execution_count": 187,
     "metadata": {},
     "output_type": "execute_result"
    }
   ],
   "source": [
    "integral.calculate(2, 128)"
   ]
  },
  {
   "cell_type": "markdown",
   "metadata": {
    "collapsed": true
   },
   "source": [
    "Формула погрешности\n",
    "$$\\left|E(f)\\right|\\leqslant {\\frac  {(b-a)}{2880}}h^{4}\\max \\limits _{{x\\in [a,b]}}|f^{{(4)}}(x)|. $$"
   ]
  },
  {
   "cell_type": "markdown",
   "metadata": {},
   "source": [
    "Введём гладкую, разрывную и осцилирующую функции"
   ]
  },
  {
   "cell_type": "code",
   "execution_count": 188,
   "metadata": {
    "collapsed": true
   },
   "outputs": [],
   "source": [
    "class ContinuousFunc(base_function.BaseFunction):\n",
    "\n",
    "    def __init__(self, params=None):\n",
    "        pass\n",
    "\n",
    "    def calculate(self, y):\n",
    "        return y ** 3"
   ]
  },
  {
   "cell_type": "code",
   "execution_count": 189,
   "metadata": {
    "collapsed": true
   },
   "outputs": [],
   "source": [
    "class NonContinuousFunc(base_function.BaseFunction):\n",
    "    \n",
    "    def __init__(self, params=None):\n",
    "        pass\n",
    "\n",
    "    def calculate(self, y):\n",
    "        return y * y if y < 1 else -y"
   ]
  },
  {
   "cell_type": "code",
   "execution_count": 190,
   "metadata": {
    "collapsed": true
   },
   "outputs": [],
   "source": [
    "class OscillatingFunction(base_function.BaseFunction):\n",
    "    \n",
    "    def __init__(self, params=None):\n",
    "        pass\n",
    "\n",
    "    def calculate(self, y):\n",
    "        return np.cos(1000 * y)"
   ]
  },
  {
   "cell_type": "code",
   "execution_count": 191,
   "metadata": {
    "collapsed": false
   },
   "outputs": [],
   "source": [
    "cont_func = ContinuousFunc()\n",
    "non_cont_func = NonContinuousFunc()\n",
    "osc_func = OscillatingFunction()\n",
    "\n",
    "integral_cont = integral_p.IntegralP(cont_func)\n",
    "integral_non_cont = integral_p.IntegralP(non_cont_func)\n",
    "integral_osc = integral_p.IntegralP(ocs_func)"
   ]
  },
  {
   "cell_type": "code",
   "execution_count": 192,
   "metadata": {
    "collapsed": false
   },
   "outputs": [
    {
     "name": "stdout",
     "output_type": "stream",
     "text": [
      "my integral of continious function: 156.208339583\n",
      "scipy integral of continious function: 156.25000000000003 with error no more than: 1.7347234759768075e-12\n",
      "total difference is 0.04166041697899914, which is 0.026662666866559444%\n"
     ]
    }
   ],
   "source": [
    "my_int = integral_cont.calculate(5, 10000)\n",
    "scipy_int = integrate.quad(lambda x: cont_func.calculate(x), 0, 5)\n",
    "print(\"my integral of continious function:\", my_int)\n",
    "print(\"scipy integral of continious function: {} with error no more than: {}\".format(scipy_int[0], scipy_int[1]))\n",
    "print(\"total difference is {}, which is {}%\".format(np.abs(scipy_int[0] - my_int),\n",
    "                                                    np.abs(100 * (scipy_int[0] - my_int) / scipy_int[0])))"
   ]
  },
  {
   "cell_type": "code",
   "execution_count": 193,
   "metadata": {
    "collapsed": false
   },
   "outputs": [
    {
     "name": "stdout",
     "output_type": "stream",
     "text": [
      "my integral of non continious function: -11.66516675\n",
      "scipy integral of non continious function: -11.66666666666125 with error no more than: 8.44332070926157e-09\n",
      "total difference is 0.00149991666126148, which is 0.01285642852510437%\n"
     ]
    }
   ],
   "source": [
    "my_int = integral_non_cont.calculate(5, 10000)\n",
    "scipy_int = integrate.quad(lambda x: non_cont_func.calculate(x), 0, 5)\n",
    "print(\"my integral of non continious function:\", my_int)\n",
    "print(\"scipy integral of non continious function: {} with error no more than: {}\".format(scipy_int[0], scipy_int[1]))\n",
    "print(\"total difference is {}, which is {}%\".format(np.abs(scipy_int[0] - my_int),\n",
    "                                                    np.abs(100 * (scipy_int[0] - my_int) / scipy_int[0])))"
   ]
  },
  {
   "cell_type": "code",
   "execution_count": 194,
   "metadata": {
    "collapsed": false
   },
   "outputs": [
    {
     "name": "stdout",
     "output_type": "stream",
     "text": [
      "my integral of non continious function: -0.000956465816737\n",
      "real int is: -0.000958924274663\n",
      "total difference is -2.458457925830497e-06, which is 0.25637664941729954%\n"
     ]
    }
   ],
   "source": [
    "my_int = integral_osc.calculate(5, 10000)\n",
    "print(\"my integral of non continious function:\", my_int)\n",
    "print(\"real int is:\", np.sin(5) / 1000)\n",
    "print(\"total difference is {}, which is {}%\".format(np.sin(5) / 1000 - my_int,\n",
    "                                                    np.abs(100 * (np.sin(5) / 1000 - my_int) / (np.sin(5) / 1000))))"
   ]
  },
  {
   "cell_type": "markdown",
   "metadata": {},
   "source": [
    "Построим график в осях $ (log(X), log(E(X))) $, где х -- это количество отрезков, на который мы разбиваем наш отрезок"
   ]
  },
  {
   "cell_type": "code",
   "execution_count": 195,
   "metadata": {
    "collapsed": true
   },
   "outputs": [],
   "source": [
    "%matplotlib inline\n",
    "\n",
    "import matplotlib\n",
    "import matplotlib.pyplot as plt"
   ]
  },
  {
   "cell_type": "code",
   "execution_count": 196,
   "metadata": {
    "collapsed": false
   },
   "outputs": [
    {
     "data": {
      "image/png": "[encoded data removed]",
      "text/plain": [
       "<matplotlib.figure.Figure at 0x7eff0ae192e8>"
      ]
     },
     "metadata": {},
     "output_type": "display_data"
    }
   ],
   "source": [
    "x = []\n",
    "y = []\n",
    "for i in range(1, 10000, 10):\n",
    "    my_int = integral_cont.calculate(5, i)\n",
    "    real_int = 625 / 4\n",
    "    x.append(np.log(i))\n",
    "    #y.append((np.abs((real_int - my_int) / real_int)))\n",
    "    y.append(np.log(np.abs(real_int - my_int)))\n",
    "plt.plot(x ,y)\n",
    "plt.show()"
   ]
  },
  {
   "cell_type": "markdown",
   "metadata": {},
   "source": [
    "$$ log(X) = 8 \\Rightarrow X \\approx 2980$$\n",
    "$$ log(X) = 6 \\Rightarrow X \\approx 403$$\n",
    "Возьмём эти $ X $ и посчитает две точки, которыми и зададим прямую, описывающую \"хвост\""
   ]
  },
  {
   "cell_type": "code",
   "execution_count": 197,
   "metadata": {
    "collapsed": false
   },
   "outputs": [
    {
     "name": "stdout",
     "output_type": "stream",
     "text": [
      "X: 2980, log(X): 7.9996785794994505, log(err): -1.9678954358098526\n",
      "X: 403, log(X): 5.998936561946683, log(err): -1.9678954358098526\n"
     ]
    }
   ],
   "source": [
    "x1 = np.log(2980)\n",
    "y1 = np.log(np.abs(625 / 4 - integral_cont.calculate(5, 2980)))\n",
    "x2 = np.log(403)\n",
    "y2 = np.log(np.abs(625 / 4 - integral_cont.calculate(5, 403)))\n",
    "\n",
    "print(\"X: 2980, log(X): {}, log(err): {}\".format(x1, y1))\n",
    "\n",
    "print(\"X: 403, log(X): {}, log(err): {}\".format(x2, y1))"
   ]
  },
  {
   "cell_type": "markdown",
   "metadata": {},
   "source": [
    "Итак, решим систему уравнений\n",
    "$$ y_1 = k * x_1 + b$$\n",
    "$$ y_2 = k * x_2 + b$$\n",
    "$$ k = \\frac{y_2 - y_1}{x_2 - x_1} $$"
   ]
  },
  {
   "cell_type": "code",
   "execution_count": 198,
   "metadata": {
    "collapsed": false
   },
   "outputs": [
    {
     "name": "stdout",
     "output_type": "stream",
     "text": [
      "0.998390098625\n"
     ]
    }
   ],
   "source": [
    "k = (y2 - y1) / (x2 - x1)\n",
    "print(np.abs(k))"
   ]
  },
  {
   "cell_type": "markdown",
   "metadata": {},
   "source": [
    "$$ X = 5 * h $$\n",
    "$$ log(err(5h)) = k * log(X) + b $$\n",
    "$$ log(err(5h)) - log(X^k) = b $$\n",
    "$$ log(\\frac{err(5h)}{X^k}) = b $$\n",
    "$$ \\frac{err(5h)}{X^k} = e^b $$\n",
    "Получается, $k$ -- это порядок аппроксимации"
   ]
  }
 ],
 "metadata": {
  "kernelspec": {
   "display_name": "Python 3",
   "language": "python",
   "name": "python3"
  },
  "language_info": {
   "codemirror_mode": {
    "name": "ipython",
    "version": 3
   },
   "file_extension": ".py",
   "mimetype": "text/x-python",
   "name": "python",
   "nbconvert_exporter": "python",
   "pygments_lexer": "ipython3",
   "version": "3.4.3"
  }
 },
 "nbformat": 4,
 "nbformat_minor": 0
}
